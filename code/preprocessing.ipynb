{
 "cells": [
  {
   "cell_type": "markdown",
   "id": "e7c30d69",
   "metadata": {},
   "source": [
    "# Preprocessing\n",
    "\n"
   ]
  },
  {
   "cell_type": "markdown",
   "id": "82c0c181",
   "metadata": {},
   "source": [
    "### Read data"
   ]
  },
  {
   "cell_type": "code",
   "execution_count": 31,
   "id": "e7c08905",
   "metadata": {},
   "outputs": [
    {
     "name": "stdout",
     "output_type": "stream",
     "text": [
      "[\"\\ufeffProject Gutenberg's Andersen's Fairy Tales, by Hans Christian Andersen\\n\", '\\n', 'This eBook is for the use of anyone anywhere at no cost and with\\n', 'almost no restrictions whatsoever.  You may copy it, give it away or\\n', 're-use it under the terms of the Project Gutenberg License included\\n', 'with this eBook or online at www.gutenberg.org\\n']\n"
     ]
    }
   ],
   "source": [
    "with open('pg1597.txt') as f:\n",
    "    lines = f.readlines()\n",
    "print(lines[:6])"
   ]
  },
  {
   "cell_type": "markdown",
   "id": "71f69069",
   "metadata": {},
   "source": [
    "### Tokenization"
   ]
  },
  {
   "cell_type": "code",
   "execution_count": 32,
   "id": "e36a5044",
   "metadata": {},
   "outputs": [
    {
     "name": "stdout",
     "output_type": "stream",
     "text": [
      "['\\ufeffProject', 'Gutenberg', \"'s\", 'Andersen', \"'s\", 'Fairy', 'Tales', ',', 'by', 'Hans', 'Christian', 'Andersen', 'This', 'eBook', 'is', 'for', 'the', 'use', 'of', 'anyone', 'anywhere', 'at', 'no', 'cost', 'and', 'with', 'almost', 'no', 'restrictions', 'whatsoever', '.', 'You', 'may', 'copy', 'it', ',', 'give', 'it', 'away', 'or', 're-use', 'it', 'under', 'the', 'terms', 'of', 'the', 'Project', 'Gutenberg', 'License', 'included']\n"
     ]
    }
   ],
   "source": [
    "# import nltk\n",
    "# nltk.download('punkt')\n",
    "from nltk.tokenize import word_tokenize\n",
    "data = \"\".join(lines)\n",
    "data = word_tokenize(data)\n",
    "print(data[:51])"
   ]
  },
  {
   "cell_type": "markdown",
   "id": "c30491bf",
   "metadata": {},
   "source": [
    "### Lower case"
   ]
  },
  {
   "cell_type": "code",
   "execution_count": 33,
   "id": "04d89a4d",
   "metadata": {},
   "outputs": [
    {
     "data": {
      "text/plain": [
       "\"\\ufeffproject gutenberg 's andersen 's fairy tales , by\""
      ]
     },
     "execution_count": 33,
     "metadata": {},
     "output_type": "execute_result"
    }
   ],
   "source": [
    "words = \" \".join(data)\n",
    "lower_w = words.lower()\n",
    "lower_w[:50]"
   ]
  },
  {
   "cell_type": "markdown",
   "id": "e4818631",
   "metadata": {},
   "source": [
    "### Stop words removal"
   ]
  },
  {
   "cell_type": "code",
   "execution_count": 34,
   "id": "0826748e",
   "metadata": {},
   "outputs": [
    {
     "name": "stdout",
     "output_type": "stream",
     "text": [
      "['project', 'gutenberg', \"'s\", 'andersen', \"'s\", 'fairy', 'tales', ',', 'hans', 'christian', 'andersen', 'ebook', 'use', 'anyone', 'anywhere', 'cost', 'almost', 'restrictions', 'whatsoever', '.', 'may', 'copy', ',', 'give', 'away', 're-use', 'terms', 'project', 'gutenberg', 'license', 'included', 'ebook', 'online', 'www.gutenberg.org', 'title', ':', 'andersen', \"'s\", 'fairy', 'tales', 'author', ':', 'hans', 'christian', 'andersen', 'posting', 'date', ':', 'october', '10', ',']\n"
     ]
    }
   ],
   "source": [
    "# import nltk\n",
    "# nltk.download('stopwords')\n",
    "from nltk.corpus import stopwords \n",
    "  \n",
    "stop_words = set(stopwords.words('english')) \n",
    "word_tokens = lower_w.split(\" \")\n",
    "  \n",
    "filtered_sentence = [w for w in word_tokens if not w in stop_words] \n",
    "filtered_sentence[0] = filtered_sentence[0][1:]\n",
    "print(filtered_sentence[:51])"
   ]
  },
  {
   "cell_type": "markdown",
   "id": "1b5f7341",
   "metadata": {},
   "source": [
    "### Stemming"
   ]
  },
  {
   "cell_type": "code",
   "execution_count": 36,
   "id": "8c3d6d08",
   "metadata": {},
   "outputs": [],
   "source": [
    "import nltk\n",
    "from nltk.stem import PorterStemmer\n",
    "ps = PorterStemmer()\n",
    "\n",
    "output = []\n",
    "for word in filtered_sentence:\n",
    "    output.append((ps.stem(word)))"
   ]
  },
  {
   "cell_type": "code",
   "execution_count": 38,
   "id": "2f0012c5",
   "metadata": {},
   "outputs": [],
   "source": [
    "final_out = \" \".join(output)"
   ]
  },
  {
   "cell_type": "code",
   "execution_count": 41,
   "id": "9b98767b",
   "metadata": {},
   "outputs": [
    {
     "name": "stdout",
     "output_type": "stream",
     "text": [
      "project gutenberg 's andersen 's fairi tale , han christian andersen ebook use anyon anywher cost almost restrict whatsoev . may copi , give away re-us term project gutenberg licens includ ebook onlin www.gutenberg.org titl : andersen 's fairi tale author : han christian andersen post date : octob 10 , 2008 [ ebook # 1597 ] releas date : januari , 1999 last updat : march 14 , 2018 languag : english * * * start project gutenberg ebook andersen 's fairi tale * * * produc diann bean andersen 's fai\n"
     ]
    }
   ],
   "source": [
    "print(final_out[:500])"
   ]
  },
  {
   "cell_type": "code",
   "execution_count": null,
   "id": "450962eb",
   "metadata": {},
   "outputs": [],
   "source": []
  }
 ],
 "metadata": {
  "kernelspec": {
   "display_name": "Python 3 (ipykernel)",
   "language": "python",
   "name": "python3"
  },
  "language_info": {
   "codemirror_mode": {
    "name": "ipython",
    "version": 3
   },
   "file_extension": ".py",
   "mimetype": "text/x-python",
   "name": "python",
   "nbconvert_exporter": "python",
   "pygments_lexer": "ipython3",
   "version": "3.10.9"
  }
 },
 "nbformat": 4,
 "nbformat_minor": 5
}
